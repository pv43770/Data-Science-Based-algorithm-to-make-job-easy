{
 "cells": [
  {
   "cell_type": "code",
   "execution_count": 1,
   "id": "af7c44f1",
   "metadata": {},
   "outputs": [
    {
     "name": "stdout",
     "output_type": "stream",
     "text": [
      "Enter the name of the movie: one piece\n"
     ]
    },
    {
     "data": {
      "text/markdown": [
       "\n",
       "# Movie Details\n",
       "\n",
       "Title: One Piece  \n",
       "Description: Monkey D. Luffy sets off on an adventure with his pirate crew in hopes of finding the greatest treasure ever, known as the \"One Piece.\"  \n",
       "Director: N/A  \n",
       "Writer(s): Eiichirô Oda  \n",
       "Release Date: 20 Oct 1999  \n",
       "Cast: Mayumi Tanaka, Akemi Okamura, Laurent Vernin\n"
      ],
      "text/plain": [
       "<IPython.core.display.Markdown object>"
      ]
     },
     "metadata": {},
     "output_type": "display_data"
    },
    {
     "data": {
      "text/html": [
       "<img src=\"https://m.media-amazon.com/images/M/MV5BM2YwYTkwNjItNGQzNy00MWE1LWE1M2ItOTMzOGI1OWQyYjA0XkEyXkFqcGdeQXVyMTUzMTg2ODkz._V1_SX300.jpg\"/>"
      ],
      "text/plain": [
       "<IPython.core.display.Image object>"
      ]
     },
     "execution_count": 1,
     "metadata": {},
     "output_type": "execute_result"
    }
   ],
   "source": [
    "from IPython.display import Image, Markdown\n",
    "import requests\n",
    "\n",
    "class MovieAPI:\n",
    "    def __init__(self, api_key):\n",
    "        self.api_key = api_key\n",
    "\n",
    "    def get_movie_details(self, title):\n",
    "        url = f\"http://www.omdbapi.com/?apikey={self.api_key}&t={title}\"\n",
    "        response = requests.get(url)\n",
    "        data = response.json()\n",
    "        return data\n",
    "\n",
    "    def get_movie_image(self, title):\n",
    "        url = f\"http://www.omdbapi.com/?apikey={self.api_key}&t={title}\"\n",
    "        response = requests.get(url)\n",
    "        data = response.json()\n",
    "        poster_url = data.get('Poster', None)\n",
    "        if poster_url and poster_url != 'N/A':\n",
    "            return poster_url\n",
    "        else:\n",
    "            return None\n",
    "\n",
    "    def display_movie_image(self, title):\n",
    "        poster_url = self.get_movie_image(title)\n",
    "        if poster_url:\n",
    "            return Image(url=poster_url)\n",
    "        else:\n",
    "            print(\"Poster not found.\")\n",
    "\n",
    "api_key = '9e30afc6' #We Can get this api key for free from OMDB site\n",
    "movie_api = MovieAPI(api_key)\n",
    "movie_title = input(\"Enter the name of the movie: \")\n",
    "\n",
    "# Get movie details\n",
    "movie_details = movie_api.get_movie_details(movie_title)\n",
    "\n",
    "# Extracting writer's name\n",
    "writers = movie_details['Writer'].split(',')\n",
    "\n",
    "# Markdown text with movie details (i am using this markdown to print image an text in same cell)\n",
    "markdown_text = f\"\"\"\n",
    "# Movie Details\n",
    "\n",
    "Title: {movie_details['Title']}  \n",
    "Description: {movie_details['Plot']}  \n",
    "Director: {movie_details['Director']}  \n",
    "Writer(s): {', '.join(writers)}  \n",
    "Release Date: {movie_details['Released']}  \n",
    "Cast: {movie_details['Actors']}\n",
    "\"\"\"\n",
    "\n",
    "# Display Markdown text\n",
    "display(Markdown(markdown_text))\n",
    "\n",
    "# Display movie poster image\n",
    "movie_api.display_movie_image(movie_title)\n"
   ]
  },
  {
   "cell_type": "code",
   "execution_count": null,
   "id": "d4bffef3",
   "metadata": {},
   "outputs": [],
   "source": []
  },
  {
   "cell_type": "code",
   "execution_count": null,
   "id": "747cc5c9",
   "metadata": {},
   "outputs": [],
   "source": []
  },
  {
   "cell_type": "code",
   "execution_count": null,
   "id": "36ebdc15",
   "metadata": {},
   "outputs": [],
   "source": []
  },
  {
   "cell_type": "code",
   "execution_count": null,
   "id": "f1067b2c",
   "metadata": {},
   "outputs": [],
   "source": []
  },
  {
   "cell_type": "code",
   "execution_count": null,
   "id": "19a30e04",
   "metadata": {},
   "outputs": [],
   "source": []
  },
  {
   "cell_type": "code",
   "execution_count": null,
   "id": "5b7e8f88",
   "metadata": {},
   "outputs": [],
   "source": []
  },
  {
   "cell_type": "code",
   "execution_count": null,
   "id": "afa36465",
   "metadata": {},
   "outputs": [],
   "source": []
  },
  {
   "cell_type": "code",
   "execution_count": null,
   "id": "d95e12d6",
   "metadata": {},
   "outputs": [],
   "source": []
  },
  {
   "cell_type": "code",
   "execution_count": null,
   "id": "da300e9c",
   "metadata": {},
   "outputs": [],
   "source": []
  }
 ],
 "metadata": {
  "kernelspec": {
   "display_name": "Python 3 (ipykernel)",
   "language": "python",
   "name": "python3"
  },
  "language_info": {
   "codemirror_mode": {
    "name": "ipython",
    "version": 3
   },
   "file_extension": ".py",
   "mimetype": "text/x-python",
   "name": "python",
   "nbconvert_exporter": "python",
   "pygments_lexer": "ipython3",
   "version": "3.7.1"
  },
  "widgets": {
   "application/vnd.jupyter.widget-state+json": {
    "state": {},
    "version_major": 2,
    "version_minor": 0
   }
  }
 },
 "nbformat": 4,
 "nbformat_minor": 5
}
