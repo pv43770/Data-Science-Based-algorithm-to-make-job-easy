{
 "cells": [
  {
   "cell_type": "code",
   "execution_count": 1,
   "id": "9d3246d3",
   "metadata": {},
   "outputs": [
    {
     "name": "stdout",
     "output_type": "stream",
     "text": [
      "Enter your Word to search in Reviews: staff\n",
      "Enter the number of top similar reviews to retrieve: 10\n",
      "Top 10 similar reviews:\n",
      "1. great service friendly staff second time stayed hotel stayed 10 days staff helpful hotel great,  \n",
      "2. excellent staff small room staff nadia hotel n't friendly helpful, stay, dissappointed size room barely, clean staff worth,  \n",
      "3. cool, staff location hotel great, reasonably priced friendly staff, beware stairs,  \n",
      "4. courteous staff clean room friendly helpful staff, staff outstanding service, thomas ryan mark, thank making stay enjoyable,  \n",
      "5. decent hotel great location friendly staff, hotel, easy friendly staff clean rooms good breakfast sense safety,  \n",
      "6. great location staff hotel perfect location old san juan, hotel nice staff courteous, walking distance great restaurants sites,  \n",
      "7. helpful friendly staff comfortable furnished rooms quietest hotel rooms stayed, desk staff friendly helpful bar restaurant staff, door men exceptional happy helpful dreadful weather boston experienced 4 days.a run hotel pleasant helpful staff lot worked hotel years sign good hotel.boston not favourite city langham enjoyable,  \n",
      "8. great hotel lovely hotel staff great, loved decor rooms, quite strange ask staff open windows overall hotel great,  \n",
      "9. excellent value great staff glad choose hotel conveniently located, staff polite helpful rooms clean, thank great stay,  \n",
      "10. great service staff excellent day stay recently, ca n't say friendliness staff, helpful group, rooms hotel little small, hk,  \n"
     ]
    }
   ],
   "source": [
    "import pandas as pd\n",
    "from sklearn.feature_extraction.text import TfidfVectorizer\n",
    "from sklearn.metrics.pairwise import cosine_similarity\n",
    "import nltk\n",
    "from nltk.corpus import stopwords\n",
    "from nltk.tokenize import word_tokenize\n",
    "\n",
    "# Function to preprocess text\n",
    "def preprocess_text(text):\n",
    "    stop_words = set(stopwords.words('english'))\n",
    "    tokens = word_tokenize(text.lower())\n",
    "    filtered_tokens = [word for word in tokens if word.isalnum() and word not in stop_words]\n",
    "    return ' '.join(filtered_tokens)\n",
    "\n",
    "# Function to get the top N most similar reviews based on user input\n",
    "def get_top_similar_reviews(user_input, top_n, vectorizer, tfidf_matrix, reviews):\n",
    "    # Preprocess user input\n",
    "    user_input = preprocess_text(user_input)\n",
    "    \n",
    "    # Transform user input to vector\n",
    "    user_vector = vectorizer.transform([user_input])\n",
    "    \n",
    "    # Calculate cosine similarity\n",
    "    similarity = cosine_similarity(user_vector, tfidf_matrix).flatten()\n",
    "\n",
    "    # Get the indices of the top reviews\n",
    "    top_indices = similarity.argsort()[-top_n:][::-1]\n",
    "\n",
    "    # Get the actual reviews based on the indices\n",
    "    top_reviews = reviews['Review'].iloc[top_indices].tolist()\n",
    "\n",
    "    return top_reviews\n",
    "\n",
    "# Load reviews data\n",
    "def load_reviews_data(file_path):\n",
    "    return pd.read_excel(file_path)\n",
    "\n",
    "\n",
    "file_path = r'C:\\Users\\pv437\\Desktop\\Data Scince Folder\\Projects\\Project 2\\hotel_reviews.xlsx'\n",
    "    \n",
    "# Load reviews data\n",
    "reviews = load_reviews_data(file_path)\n",
    "    \n",
    "# Initialize TfidfVectorizer\n",
    "vectorizer = TfidfVectorizer(stop_words='english')\n",
    "    \n",
    "# Preprocess and fit-transform reviews data\n",
    "tfidf_matrix = vectorizer.fit_transform(reviews['Review'].apply(preprocess_text))\n",
    "    \n",
    "# Example usage of the function\n",
    "user_input = input(\"Enter your Word to search in Reviews: \")\n",
    "top_n = int(input(\"Enter the number of top similar reviews to retrieve: \"))  # Prompt user for top_n\n",
    "top_reviews = get_top_similar_reviews(user_input, top_n, vectorizer, tfidf_matrix, reviews)\n",
    "print(\"Top\", top_n, \"similar reviews:\")\n",
    "for i, review in enumerate(top_reviews, 1):\n",
    "    print(f\"{i}. {review}\")\n"
   ]
  },
  {
   "cell_type": "code",
   "execution_count": null,
   "id": "fcd097a8",
   "metadata": {},
   "outputs": [],
   "source": []
  },
  {
   "cell_type": "code",
   "execution_count": null,
   "id": "1421aa39",
   "metadata": {},
   "outputs": [],
   "source": []
  },
  {
   "cell_type": "code",
   "execution_count": null,
   "id": "7faf3dd2",
   "metadata": {},
   "outputs": [],
   "source": []
  },
  {
   "cell_type": "code",
   "execution_count": null,
   "id": "016532c0",
   "metadata": {},
   "outputs": [],
   "source": []
  },
  {
   "cell_type": "code",
   "execution_count": null,
   "id": "7377b41f",
   "metadata": {},
   "outputs": [],
   "source": []
  }
 ],
 "metadata": {
  "kernelspec": {
   "display_name": "Python 3 (ipykernel)",
   "language": "python",
   "name": "python3"
  },
  "language_info": {
   "codemirror_mode": {
    "name": "ipython",
    "version": 3
   },
   "file_extension": ".py",
   "mimetype": "text/x-python",
   "name": "python",
   "nbconvert_exporter": "python",
   "pygments_lexer": "ipython3",
   "version": "3.7.1"
  }
 },
 "nbformat": 4,
 "nbformat_minor": 5
}
